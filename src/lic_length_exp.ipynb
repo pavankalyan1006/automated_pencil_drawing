{
 "cells": [
  {
   "cell_type": "code",
   "execution_count": 1,
   "metadata": {},
   "outputs": [],
   "source": [
    "import numpy as np\n",
    "import cv2 as cv\n",
    "from src.lic import *\n",
    "import os\n",
    "from matplotlib import pyplot as plt"
   ]
  },
  {
   "cell_type": "code",
   "execution_count": 2,
   "metadata": {},
   "outputs": [],
   "source": [
    "test_img = './temp/test2.jpg'"
   ]
  },
  {
   "cell_type": "code",
   "execution_count": 3,
   "metadata": {},
   "outputs": [],
   "source": [
    "img = cv.imread(test_img)\n",
    "img = cv.cvtColor(img, cv.COLOR_BGR2RGB)\n",
    "img_lab = cv.cvtColor(img, cv.COLOR_RGB2LAB)\n",
    "img_gray = cv.cvtColor(img, cv.COLOR_RGB2GRAY)"
   ]
  },
  {
   "cell_type": "code",
   "execution_count": 4,
   "metadata": {},
   "outputs": [],
   "source": [
    "labels, label_counts = label_regions(img_lab, img_lab.shape[0] * img_lab.shape[1] // 8)\n",
    "vec = extract_region_vector_field(img_gray, labels, label_counts)\n",
    "im_noise = generate_noise_image(img_gray, labels, label_counts)"
   ]
  },
  {
   "cell_type": "code",
   "execution_count": 5,
   "metadata": {
    "pycharm": {
     "name": "#%%\n"
    }
   },
   "outputs": [
    {
     "name": "stderr",
     "output_type": "stream",
     "text": [
      "D:\\Software\\Anaconda3\\lib\\site-packages\\ipykernel_launcher.py:4: MatplotlibDeprecationWarning: Adding an axes using the same arguments as a previous axes currently reuses the earlier instance.  In a future version, a new instance will always be created and returned.  Meanwhile, this warning can be suppressed, and the future behavior ensured, by passing a unique label to each axes instance.\n",
      "  after removing the cwd from sys.path.\n",
      "D:\\Software\\Anaconda3\\lib\\site-packages\\ipykernel_launcher.py:5: MatplotlibDeprecationWarning: Adding an axes using the same arguments as a previous axes currently reuses the earlier instance.  In a future version, a new instance will always be created and returned.  Meanwhile, this warning can be suppressed, and the future behavior ensured, by passing a unique label to each axes instance.\n",
      "  \"\"\"\n"
     ]
    },
    {
     "data": {
      "image/png": "[encoded data removed]",
      "text/plain": [
       "<Figure size 864x864 with 1 Axes>"
      ]
     },
     "metadata": {
      "needs_background": "light"
     },
     "output_type": "display_data"
    }
   ],
   "source": [
    "figure = plt.figure(figsize=(12,12))\n",
    "plt.set_cmap('magma')\n",
    "plt.imshow(labels)\n",
    "plt.axes().get_xaxis().set_visible(False)\n",
    "plt.axes().get_yaxis().set_visible(False)\n",
    "plt.tight_layout()\n"
   ]
  },
  {
   "cell_type": "code",
   "execution_count": null,
   "outputs": [],
   "source": [
    "figure = plt.figure(figsize=(12,12))\n",
    "plt.set_cmap('hot')\n",
    "plt.imshow(im_noise)\n",
    "plt.axes().get_xaxis().set_visible(False)\n",
    "plt.axes().get_yaxis().set_visible(False)\n",
    "plt.tight_layout()\n"
   ],
   "metadata": {
    "collapsed": false,
    "pycharm": {
     "name": "#%%\n"
    }
   }
  },
  {
   "cell_type": "code",
   "execution_count": null,
   "outputs": [],
   "source": [
    "figure = plt.figure(figsize=(12,12))\n",
    "plt.axes().get_xaxis().set_visible(False)\n",
    "plt.axes().get_yaxis().set_visible(False)\n",
    "plt.imshow(img)\n",
    "X, Y = np.meshgrid(np.arange(img.shape[1]), np.arange(img.shape[0]))\n",
    "skip = 10\n",
    "#plt.quiver(X[::skip, ::skip], Y[::skip, ::skip], vec[::skip, ::skip, 1], vec[::skip, ::skip, 0])\n",
    "plt.streamplot(X, Y, vec[:, :, 1], vec[:, :, 0], density=(2, 2))\n",
    "plt.tight_layout()\n"
   ],
   "metadata": {
    "collapsed": false,
    "pycharm": {
     "name": "#%%\n"
    }
   }
  },
  {
   "cell_type": "code",
   "execution_count": null,
   "outputs": [],
   "source": [],
   "metadata": {
    "collapsed": false,
    "pycharm": {
     "name": "#%%\n"
    }
   }
  }
 ],
 "metadata": {
  "kernelspec": {
   "display_name": "Python 3",
   "language": "python",
   "name": "python3"
  },
  "language_info": {
   "codemirror_mode": {
    "name": "ipython",
    "version": 3
   },
   "file_extension": ".py",
   "mimetype": "text/x-python",
   "name": "python",
   "nbconvert_exporter": "python",
   "pygments_lexer": "ipython3",
   "version": "3.6.8"
  },
  "pycharm": {
   "stem_cell": {
    "cell_type": "raw",
    "source": [],
    "metadata": {
     "collapsed": false
    }
   }
  }
 },
 "nbformat": 4,
 "nbformat_minor": 2
}